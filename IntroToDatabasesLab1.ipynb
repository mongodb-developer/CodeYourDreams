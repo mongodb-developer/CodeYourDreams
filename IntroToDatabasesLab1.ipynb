{
 "cells": [
  {
   "cell_type": "markdown",
   "metadata": {},
   "source": [
    "# Intro to Databases: Lab 1\n",
    "Welcome to the *Introduction to Databases* course! In this lab you'll start on your database journey with MongoDB Atlas and MongoDB Compass. [MongoDB Atlas](https://www.mongodb.com/atlas) is a hosted version of MongoDB. [MongoDB Compass](https://www.mongodb.com/compass) is a Graphical User Interface (GUI) tool to explore and work with the data stored in a MongoDB database.\n",
    "\n",
    "Your instructor should have created an account for you on MongoDB Atlas and assigned you to a project (team) that has a database running. Your workstation should also have MongoDB Compass installed. With these pieces in place, you should be able to load data into your database and then explore that data. Let's get started!\n",
    "\n",
    "### Login to MongoDB Atlas\n",
    "\n",
    "1. Using the information provided by your instructor, go to the MongoDB Atlas [login](https://cloud.mongodb.com/user) page and go to your account.\n",
    "2. Navigate to your team's *Clusters Dashboard* and click the **CONNECT** button.\n",
    "3. Select the *Connect with MongoDB Compass* option.\n",
    "4. Select the *I have Compass* button and the *1.12 or later* version option.\n",
    "5. Copy the connection string to your clipboard. From here you should have your *MongoDB User* credentials from your instructor as well.\n",
    "6. With the connection string in your clipboard, open the MongoDB Compass application on your workstation.\n",
    "\n",
    "### Use MongoDB Compass to Load Your Sample Data\n",
    "\n",
    "1. When the program opens, a pop-up dialog box should appear saying that it has detected the connection string in your clipboard. Click **Yes** to use those settings inside MongoDB Compass.\n",
    "2. The connection information with the exception of the MongoDB User password is now filled in. Use the password from provided by your instructor.\n",
    "3. Name this connection to save as a favorite. For this example, I'm connecting to the **Team 1** project and will use that name as my favorite. Then I'll click on **Connect**.\n",
    "4. Click the **Create Database** button. For the *Database Name* use a meaningful name for your project. For this example, `ShipInfo` will be used. For the *Collection Name*, again use a meaningful name for your project and application. `shipwrecks` will be used for this example. Leave *Capped Collection* and *Use Custom Collation* unchecked and click **CREATE DATABASE**.\n",
    "5. Click on the new `ShipInfo` database and then the `shipwrecks` collection. \n",
    "6. We can now load our own data into the `ShipInfo.shipwrecks` collection. From the *Collection* menu in MongoDB Compass, select **Import Data**. Select JSON and browse to a `json` or `csv` file you want to load as a dataset. This example will use a `ships.json` file, which can be found [here](https://github.com/mongodb-developer/CodeYourDreams/blob/master/ships.json). Then click **IMPORT**.\n",
    "7. MongoDB Compass will load the `ships.json` data into the `ShipInfo` database and it is ready to explore.\n",
    "8. Once the data is loaded, MongoDB Compass wil display a few sample documents from the dataset. Explore through them to see how they are formatted.\n",
    "9. Click on the **Schema** tab at the top of the window. Then the green **Analyze Schema** button. This allows MongoDB Compass to give a summary of the different types of data inside the collection.\n",
    "10. Explore through your dataset and see some of the different types of data and how they are distributed across the collection. If you are using the `ships.json` dataset, or another dataset that includes geolocation data, notice that MongoDB Compass is able to plot those data points to provide additional context to the data.\n",
    "11. We will be using MongoDB Compass again in Lesson 2 to see how to perform CRUD (**C**reate, **R**ead, **U**pdate, and **D**elete) operations on your data.\n"
   ]
  },
  {
   "cell_type": "code",
   "execution_count": null,
   "metadata": {},
   "outputs": [],
   "source": []
  }
 ],
 "metadata": {
  "kernelspec": {
   "display_name": "Python 3",
   "language": "python",
   "name": "python3"
  },
  "language_info": {
   "codemirror_mode": {
    "name": "ipython",
    "version": 3
   },
   "file_extension": ".py",
   "mimetype": "text/x-python",
   "name": "python",
   "nbconvert_exporter": "python",
   "pygments_lexer": "ipython3",
   "version": "3.7.3"
  }
 },
 "nbformat": 4,
 "nbformat_minor": 2
}
