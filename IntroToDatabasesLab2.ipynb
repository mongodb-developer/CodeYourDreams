{
 "cells": [
  {
   "cell_type": "markdown",
   "metadata": {},
   "source": [
    "# Intro to Databases:  Lab 2"
   ]
  },
  {
   "cell_type": "markdown",
   "metadata": {},
   "source": [
    "## Setup\n",
    "\n",
    "This lab builds on the first Intro to Databases Lab.  You should complete Lab 1 before beginning this lab."
   ]
  },
  {
   "cell_type": "markdown",
   "metadata": {},
   "source": [
    "### Install PyMongo\n",
    "\n",
    "PyMongo is a Python distribution containing tools for working with MongoDB, and is the recommended way to work with MongoDB from Python. \n",
    "\n",
    "Execute the code block below to install PyMongo.  The installation will take a couple of minutes. You can learn more about PyMongo in the [official documentation](https://api.mongodb.com/python/current)."
   ]
  },
  {
   "cell_type": "code",
   "execution_count": 32,
   "metadata": {},
   "outputs": [
    {
     "name": "stdout",
     "output_type": "stream",
     "text": [
      "Collecting package metadata (repodata.json): done\n",
      "Solving environment: done\n",
      "\n",
      "# All requested packages already installed.\n",
      "\n",
      "\n",
      "Note: you may need to restart the kernel to use updated packages.\n"
     ]
    }
   ],
   "source": [
    "conda install pymongo"
   ]
  },
  {
   "cell_type": "markdown",
   "metadata": {},
   "source": [
    "### Install dnspython\n",
    "\n",
    "[dnspython](http://www.dnspython.org) is a DNS toolkit for Python. You will need dnspython in order to successfully use your Atlas connection string. \n",
    "\n",
    "Execute the code block below to install dnspython.  The installation will take a couple of minutes."
   ]
  },
  {
   "cell_type": "code",
   "execution_count": 33,
   "metadata": {},
   "outputs": [
    {
     "name": "stdout",
     "output_type": "stream",
     "text": [
      "Collecting package metadata (repodata.json): done\n",
      "Solving environment: done\n",
      "\n",
      "# All requested packages already installed.\n",
      "\n",
      "\n",
      "Note: you may need to restart the kernel to use updated packages.\n"
     ]
    }
   ],
   "source": [
    "conda install dnspython"
   ]
  },
  {
   "cell_type": "markdown",
   "metadata": {},
   "source": [
    "### Restart the Kernel\n",
    "\n",
    "After installing PyMongo and dnspython, you will likely need to restart your kernel.  You can do so in Jupyter Lab by selecting **Kernel > Restart Kernel...** and clicking **Restart**."
   ]
  },
  {
   "cell_type": "markdown",
   "metadata": {},
   "source": [
    "## Connect to Your Team's Cluster\n",
    "\n",
    "Now we are ready to setup a connection to your team's cluster.  \n",
    "1. Navigate to Atlas at https://cloud.mongodb.com.\n",
    "1. In the upper-left, select your team's project that contains your data in the CONTEXT menu. \n",
    "1. Click **Clusters** in the left navigation pane.\n",
    "1. In the right pane, open your cluster by clicking **Cluster0**.\n",
    "1. Click the **CONNECT** button on the right side of the page. A **Connect to Cluster 0** dialog appears.\n",
    "1. TODO:  Double check lab 1 contains step for whitelisting all ips and creating a user\n",
    "1. Click **Connect Your Application**.\n",
    "1. In the **Choose your driver version** step, select **Python** as your driver and **3.6 or later** as your version.\n",
    "1. In the **Connection String Only** section, click **Copy**.\n",
    "1. Paste the connection string in line 4 of the code block below.\n",
    "1. Replace `<password>` with a valid password in the connection string you just pasted.\n",
    "1. Update lines 5 and 6 in the code block below to refelect the names of your team's database and collection. We'll use these variables throughout the rest of this lab.\n",
    "1. Run the code below in order to connect to your database and execute a simple query. If information about a document in your database is displayed, you are successfully connected."
   ]
  },
  {
   "cell_type": "code",
   "execution_count": 1,
   "metadata": {},
   "outputs": [
    {
     "data": {
      "text/plain": [
       "{'_id': ObjectId('573a1390f29313caabcd4135'),\n",
       " 'plot': 'Three men hammer on an anvil and pass a bottle of beer around.',\n",
       " 'genres': ['Short'],\n",
       " 'runtime': 1,\n",
       " 'cast': ['Charles Kayser', 'John Ott'],\n",
       " 'num_mflix_comments': 1,\n",
       " 'title': 'Blacksmith Scene',\n",
       " 'fullplot': 'A stationary camera looks at a large anvil with a blacksmith behind it and one on either side. The smith in the middle draws a heated metal rod from the fire, places it on the anvil, and all three begin a rhythmic hammering. After several blows, the metal goes back in the fire. One smith pulls out a bottle of beer, and they each take a swig. Then, out comes the glowing metal and the hammering resumes.',\n",
       " 'countries': ['USA'],\n",
       " 'released': datetime.datetime(1893, 5, 9, 0, 0),\n",
       " 'directors': ['William K.L. Dickson'],\n",
       " 'rated': 'UNRATED',\n",
       " 'awards': {'wins': 1, 'nominations': 0, 'text': '1 win.'},\n",
       " 'lastupdated': '2015-08-26 00:03:50.133000000',\n",
       " 'year': 1893,\n",
       " 'imdb': {'rating': 6.2, 'votes': 1189, 'id': 5},\n",
       " 'type': 'movie',\n",
       " 'tomatoes': {'viewer': {'rating': 3.0, 'numReviews': 184, 'meter': 32},\n",
       "  'lastUpdated': datetime.datetime(2015, 6, 28, 18, 34, 9)}}"
      ]
     },
     "execution_count": 1,
     "metadata": {},
     "output_type": "execute_result"
    }
   ],
   "source": [
    "import pymongo\n",
    "from pymongo import MongoClient\n",
    "\n",
    "connectionString = \"PASTE-YOUR-CONNECTION-STRING-HERE\" \n",
    "databaseName = \"THE-NAME-OF-YOUR-DATABASE\"\n",
    "collectionName = \"THE-NAME-OF-YOUR-COLLECTION\"\n",
    "\n",
    "connectionString = \"mongodb+srv://test:<password>@cluster0-farou.mongodb.net/test?retryWrites=true&w=majority\" #TODO Remove these lines\n",
    "databaseName = \"sample_mflix\"\n",
    "collectionName = \"movies\"\n",
    "\n",
    "client = pymongo.MongoClient(connectionString)\n",
    "\n",
    "db = client[databaseName] \n",
    "collection = db[collectionName]\n",
    "collection.find_one()"
   ]
  },
  {
   "cell_type": "markdown",
   "metadata": {},
   "source": [
    "## CRUD Operations\n",
    "\n",
    "Now that we're connected to your database, let's interact with it.\n",
    "\n",
    "### Create\n",
    "\n",
    "Let's begin by adding data to your database.  We can do this with an [insert_one](https://api.mongodb.com/python/current/api/pymongo/collection.html#pymongo.collection.Collection.insert_one) or [insert_many](https://api.mongodb.com/python/current/api/pymongo/collection.html#pymongo.collection.Collection.insert_many) operation. \n",
    "\n",
    "Update the fields and values in the `new_document` variable below to reflect the new data you want to insert into your database.  Then run the code below to insert the document.\n",
    "\n",
    "Note that MongoDB requires every document to contain a unique `_id`.  If you don't include an id in the document, MongoDB will create one for you."
   ]
  },
  {
   "cell_type": "code",
   "execution_count": 2,
   "metadata": {},
   "outputs": [
    {
     "name": "stdout",
     "output_type": "stream",
     "text": [
      "The id of the new document is 5d4054b421728ff3dcdf2d0c\n"
     ]
    }
   ],
   "source": [
    "# Create a Python dictionary for the new document you want to create\n",
    "new_document = {\n",
    "    'field1': 'YOUR-VALUE-HERE',\n",
    "    'field2': 'YOUR-VALUE-HERE'\n",
    "}\n",
    "\n",
    "# Insert our new document into our collection\n",
    "results = collection.insert_one(new_document)\n",
    "\n",
    "# Print the new document's _id\n",
    "print(\"The id of the new document is \" + str(results.inserted_id))"
   ]
  },
  {
   "cell_type": "markdown",
   "metadata": {},
   "source": [
    "## Read\n",
    "\n",
    "Now that we have inserted a document, let's read it from the database.  Let's use [find_one](https://api.mongodb.com/python/current/api/pymongo/collection.html#pymongo.collection.Collection.find_one) to retrieve the document you just created by searching for it by _id.\n",
    "\n",
    "Copy the document id from the output of the previous code block, and paste it into the code below.  Then run the code to query for your document. If the query returns a document, it will be printed in the output.  If nothing is returned, check that your _id is correct."
   ]
  },
  {
   "cell_type": "code",
   "execution_count": 3,
   "metadata": {},
   "outputs": [
    {
     "data": {
      "text/plain": [
       "{'_id': ObjectId('5d4054b421728ff3dcdf2d0c'),\n",
       " 'field1': 'YOUR-VALUE-HERE',\n",
       " 'field2': 'YOUR-VALUE-HERE'}"
      ]
     },
     "execution_count": 3,
     "metadata": {},
     "output_type": "execute_result"
    }
   ],
   "source": [
    "from bson.objectid import ObjectId\n",
    "\n",
    "collection.find_one({'_id': ObjectId('5d4054b421728ff3dcdf2d0c')}) #TODO DELETE THIS & UNCOMMENT NEXT LINE\n",
    "#collection.find_one({'_id': ObjectId('PASTE-THE-DOCUMENT-ID-HERE')})"
   ]
  },
  {
   "cell_type": "markdown",
   "metadata": {},
   "source": [
    "We can use [find](https://api.mongodb.com/python/current/api/pymongo/collection.html#pymongo.collection.Collection.find) to search for all documents in a collection that meet our query parameters.  We can use [comparison query operators](https://docs.mongodb.com/manual/reference/operator/query-comparison) to help.  For example, we could use `$gt` to search for all documents with latitudes that are *greater than* 0.\n",
    "\n",
    "Using the code below to help you, create a query to find more than one document in your collection and then print the results.\n",
    "\n",
    "Note:  the queries in this section all have a single query parameter, but you can add multiple query parameters to your query if you'd like. "
   ]
  },
  {
   "cell_type": "code",
   "execution_count": 5,
   "metadata": {},
   "outputs": [],
   "source": [
    "import pprint\n",
    "\n",
    "for doc in collection.find({'THE-FIELD-YOU-WANT-QUERY': 'THE-VALUE-YOU-WANT-TO-MATCH'}):\n",
    "    pprint.pprint(doc)"
   ]
  },
  {
   "cell_type": "markdown",
   "metadata": {},
   "source": [
    "### Update\n",
    "\n",
    "Let's make a change to a document that is in your database by using [update_one](https://api.mongodb.com/python/current/api/pymongo/collection.html#pymongo.collection.Collection.update_one).  Let's update the document we inserted earlier.  `update_one` has two mandatory parameters.  First, you indicate the filter (query) that should be used to find the document to update.  Second, you indicate how the document should be updated.\n",
    "\n",
    "Paste the id of the document you created earlier in line 1 of the code block below.  Then update line 2 to reflect the fields you want to update.  Execute the code block to update your document."
   ]
  },
  {
   "cell_type": "code",
   "execution_count": 6,
   "metadata": {},
   "outputs": [
    {
     "name": "stdout",
     "output_type": "stream",
     "text": [
      "1 document was updated\n"
     ]
    },
    {
     "data": {
      "text/plain": [
       "{'_id': ObjectId('5d4054b421728ff3dcdf2d0c'),\n",
       " 'field1': 'YOUR-VALUE-HERE',\n",
       " 'field2': 'YOUR-VALUE-HERE',\n",
       " 'ANOTHER-FIELD-YOU-WANT-TO-UPDATE': 'NEW-VALUE',\n",
       " 'FIELD-YOU-WANT-TO-UPDATE': 'NEW-VALUE'}"
      ]
     },
     "execution_count": 6,
     "metadata": {},
     "output_type": "execute_result"
    }
   ],
   "source": [
    "document_id = 'PASTE-THE-DOCUMENT-ID-HERE'\n",
    "document_id = '5d4054b421728ff3dcdf2d0c' #TODO Delete this line\n",
    "result = collection.update_one( {'_id': ObjectId(document_id)}, {'$set': {'FIELD-YOU-WANT-TO-UPDATE': 'NEW-VALUE', 'ANOTHER-FIELD-YOU-WANT-TO-UPDATE': 'NEW-VALUE'}} )\n",
    "\n",
    "print(str(result.modified_count) + \" document was updated\")\n",
    "\n",
    "# Print the document so you can see the updates\n",
    "collection.find_one({'_id': ObjectId(document_id)})"
   ]
  },
  {
   "cell_type": "markdown",
   "metadata": {},
   "source": [
    "We can also update many documents at a time using [update_many](https://api.mongodb.com/python/current/api/pymongo/collection.html#pymongo.collection.Collection.update_many). Write code to update more than one document in your collection.  You can choose to update existing fields or create new fields."
   ]
  },
  {
   "cell_type": "code",
   "execution_count": 8,
   "metadata": {},
   "outputs": [
    {
     "name": "stdout",
     "output_type": "stream",
     "text": [
      "59 documents were updated.\n",
      "\n"
     ]
    }
   ],
   "source": [
    "result = collection.update_many( {'THE-FIELD-YOU-WANT-QUERY': 'THE-VALUE-YOU-WANT-TO-MATCH'}, {'$set': {'FIELD-TO-UPDATE-OR-ADD': 'NEW-VALUE'} } )\n",
    "\n",
    "print(str(result.modified_count) + \" documents were updated.\\n\")"
   ]
  },
  {
   "cell_type": "markdown",
   "metadata": {},
   "source": [
    "The examples above use the `$set` Update Operator to indicate what fields should be set in the docs to be udpated.  See the [official documentation](https://docs.mongodb.com/manual/reference/operator/update) for a list of all Update Operators."
   ]
  },
  {
   "cell_type": "markdown",
   "metadata": {},
   "source": [
    "### Delete\n",
    "\n",
    "You may also find you need to delete documents.  You can use [delete_one](https://api.mongodb.com/python/current/api/pymongo/collection.html#pymongo.collection.Collection.delete_one) or [delete_many](https://api.mongodb.com/python/current/api/pymongo/collection.html#pymongo.collection.Collection.delete_many).   \n",
    "\n",
    "Let's delete the document you created earlier. Paste the id of the document you created earlier in line 1 of the code block below and then execute it."
   ]
  },
  {
   "cell_type": "code",
   "execution_count": 10,
   "metadata": {},
   "outputs": [
    {
     "name": "stdout",
     "output_type": "stream",
     "text": [
      "1 document was deleted\n"
     ]
    }
   ],
   "source": [
    "#result = collection.delete_one( {'_id': ObjectId('PASTE-THE-DOCUMENT-ID-HERE')} )\n",
    "result = collection.delete_one( {'_id': ObjectId('5d4054b421728ff3dcdf2d0c')} ) #TODO: Delete this line and uncomment line above\n",
    "print(str(result.deleted_count) + \" document was deleted\")"
   ]
  },
  {
   "cell_type": "markdown",
   "metadata": {},
   "source": [
    "## Setup MongoDB Charts\n",
    "\n",
    "Now that you know how to programmatically create, read, update, and delete data, it's time to visualize it!  MongoDB Charts is a tool to create visual representations of your MongoDB data. \n",
    "\n",
    "### Open MongoDB Charts\n",
    "1. Open a new tab in your browser.\n",
    "1. Navigate to Atlas at http://cloud.mongodb.com.\n",
    "1. If prompted, authenticate.\n",
    "1. In the Context menu, select your team's project.\n",
    "1. In the left menu, click **Charts**. \n",
    "1. If prompted, click **Activate MongoDB Charts**.  MongoDB Charts will open.\n",
    "\n",
    "### Add a Data Source\n",
    "A Data Source is a reference to a MongoDB collection that contains the data you wish to visualize.\n",
    "1. In the top menu, click **Data Sources**.\n",
    "1. Click **New Data Source**.\n",
    "1. Select your team's project and click **Connect**.\n",
    "1. When prompted to choose a collection, check the box on the row of one of your team's collections and click **Set Permissions**.\n",
    "1. Click **Publish Data Source**.\n",
    "\n",
    "### Create a Dashboard\n",
    "A dashboard is a place where you can display one or more charts.\n",
    "1. In the top menu, click **Dashboards**.\n",
    "1. Click **New Dashboard**.\n",
    "1. Leave the default title and description for your dashboard and click **Create**.\n",
    "\n",
    "### Create a Chart for Your Team's Data\n",
    "1. Click **Add Chart**.\n",
    "1. In the **Choose a Data Source** selection box, select one of your team's collections. \n",
    "1. In the Chart Type selection box, choose a chart type that looks interesting to you.\n",
    "1. Drag fields from the Fields pane and drop them in the Encode pane. Configure the chart as you see fit.\n",
    "1. Above the map, hover your mouse over **Enter a title for your chart**, click the Pencil button that appears, input a title for your chart, and click the Checkmark button.\n",
    "1. In the upper-left corner, click **Save and Close**.\n",
    "\n",
    "### Embed the Chart\n",
    "\n",
    "When working with your shareholders, you may want to create a dashboard and share it with them, so they can see stats about your app at a glance.  You may also want to display a chart in your app or on a webpage like a blog.  Today, let's embed a chart in this notebook.\n",
    "\n",
    "1. In your MongoDB Charts dashboard, hover over your chart, click the Options button (**...**) in the upper-right corner of the chart, and select **Embed Chart**.\n",
    "1. Some data is private and you will only want certain users to be able to view it.  MongoDB Charts has authentication options to help you keep your data secure. If this data is not private and you want to embed the chart, enable unauthenticated access by clicking **Enable embedding options**, switching the **Enable external embedding for charts that use this data source** option to **ON**, choosing the **Unauthenticated or Verified Signature** option, and clicking **Go Back**.\n",
    "1. Switch **Enable unauthenticated access** to **ON**. \n",
    "1. Copy the entire src url from inside the EMBED CODE. You should not copy the quotations. For example, the src url you copy should look something like `https://charts.mongodb.com/charts-team1-ximow/embed/charts?id=69fa82ce-d97f-4dc1-bc9b-404f8af7db6b&tenant=50e4d10e-b0a9-4e28-8c62-02c61b58f69a`. \n",
    "1. Paste the url in the code block below and run it.  \n",
    "\n",
    "You've successfully taken data from your database and made it easy for anyone to understand!\n"
   ]
  },
  {
   "cell_type": "code",
   "execution_count": 11,
   "metadata": {},
   "outputs": [
    {
     "data": {
      "text/html": [
       "\n",
       "        <iframe\n",
       "            width=\"640\"\n",
       "            height=\"480\"\n",
       "            src=\"https://charts.mongodb.com/charts-team2-xqbow/embed/charts?id=d75c9964-95a3-4f68-bc5f-7d987fa25525&tenant=bf3fb7d5-8309-4fa2-b5dc-a327cea70257\"\n",
       "            frameborder=\"0\"\n",
       "            allowfullscreen\n",
       "        ></iframe>\n",
       "        "
      ],
      "text/plain": [
       "<IPython.lib.display.IFrame at 0x110b6cf98>"
      ]
     },
     "execution_count": 11,
     "metadata": {},
     "output_type": "execute_result"
    }
   ],
   "source": [
    "from IPython.display import IFrame    \n",
    "IFrame('https://charts.mongodb.com/charts-team2-xqbow/embed/charts?id=d75c9964-95a3-4f68-bc5f-7d987fa25525&tenant=bf3fb7d5-8309-4fa2-b5dc-a327cea70257', width=640, height=480) #TODO delete this line and uncomment the next\n",
    "#IFrame('PASTE-YOUR-SRC-URL-HERE', width=640, height=480)"
   ]
  },
  {
   "cell_type": "markdown",
   "metadata": {},
   "source": [
    "## Additional Resources\n",
    "\n",
    "- PyMongo Tutorial: https://api.mongodb.com/python/current/tutorial.html\n",
    "- MongoDB University: https://university.mongodb.com/\n",
    "- MongoDB Documentation: https://docs.mongodb.com/\n",
    "- MongoDB Charts Tutorials: https://docs.mongodb.com/charts/master/tutorials/"
   ]
  }
 ],
 "metadata": {
  "kernelspec": {
   "display_name": "Python 3",
   "language": "python",
   "name": "python3"
  },
  "language_info": {
   "codemirror_mode": {
    "name": "ipython",
    "version": 3
   },
   "file_extension": ".py",
   "mimetype": "text/x-python",
   "name": "python",
   "nbconvert_exporter": "python",
   "pygments_lexer": "ipython3",
   "version": "3.7.3"
  }
 },
 "nbformat": 4,
 "nbformat_minor": 2
}
